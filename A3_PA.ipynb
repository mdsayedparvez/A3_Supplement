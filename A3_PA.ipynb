{
 "cells": [
  {
   "cell_type": "code",
   "execution_count": 234,
   "metadata": {},
   "outputs": [],
   "source": [
    "from pyspark.sql import SparkSession\n",
    "\n",
    "# (8 cores, 16gb per machine) x 5 = 40 cores\n",
    "\n",
    "# New API\n",
    "spark_session = SparkSession\\\n",
    "        .builder\\\n",
    "        .master(\"spark://192.168.2.87:7077\") \\\n",
    "        .appName(\"Parvez_A3_PA\")\\\n",
    "        .config(\"spark.dynamicAllocation.enabled\", True)\\\n",
    "        .config(\"spark.shuffle.service.enabled\", True)\\\n",
    "        .config(\"spark.dynamicAllocation.executorIdleTimeout\",\"30s\")\\\n",
    "        .config(\"spark.executor.cores\",6)\\\n",
    "        .getOrCreate()\n",
    "\n",
    "# Old API (RDD)\n",
    "spark_context = spark_session.sparkContext"
   ]
  },
  {
   "cell_type": "code",
   "execution_count": 235,
   "metadata": {
    "scrolled": true
   },
   "outputs": [
    {
     "name": "stdout",
     "output_type": "stream",
     "text": [
      "['Resumption of the session', 'I declare resumed the session of the European Parliament adjourned on Friday 17 December 1999, and I would like once again to wish you a happy new year in the hope that you enjoyed a pleasant festive period.', \"Although, as you will have seen, the dreaded 'millennium bug' failed to materialise, still the people in a number of countries suffered a series of natural disasters that truly were dreadful.\", 'You have requested a debate on this subject in the course of the next few days, during this part-session.', \"In the meantime, I should like to observe a minute' s silence, as a number of Members have requested, on behalf of all the victims concerned, particularly those of the terrible storms, in the various countries of the European Union.\", \"Please rise, then, for this minute' s silence.\", \"(The House rose and observed a minute' s silence)\", 'Madam President, on a point of order.', 'You will be aware from the press and television that there have been a number of bomb explosions and killings in Sri Lanka.', 'One of the people assassinated very recently in Sri Lanka was Mr Kumar Ponnambalam, who had visited the European Parliament just a few months ago.']\n"
     ]
    }
   ],
   "source": [
    "en_lines = spark_context.textFile(\"hdfs://192.168.2.87:9000/europarl/europarl-v7.fi-en.en\")\n",
    "print(en_lines.take(10))"
   ]
  },
  {
   "cell_type": "code",
   "execution_count": 184,
   "metadata": {},
   "outputs": [],
   "source": [
    "fi_lines = spark_context.textFile(\"hdfs://192.168.2.87:9000/europarl/europarl-v7.fi-en.fi\")"
   ]
  },
  {
   "cell_type": "code",
   "execution_count": 185,
   "metadata": {},
   "outputs": [
    {
     "data": {
      "text/plain": [
       "1924942"
      ]
     },
     "execution_count": 185,
     "metadata": {},
     "output_type": "execute_result"
    }
   ],
   "source": [
    "en_lines.count()"
   ]
  },
  {
   "cell_type": "code",
   "execution_count": 186,
   "metadata": {},
   "outputs": [
    {
     "data": {
      "text/plain": [
       "1924942"
      ]
     },
     "execution_count": 186,
     "metadata": {},
     "output_type": "execute_result"
    }
   ],
   "source": [
    "fi_lines.count()"
   ]
  },
  {
   "cell_type": "code",
   "execution_count": 187,
   "metadata": {},
   "outputs": [],
   "source": [
    "def tokenize(lines):\n",
    "    return lines.split()"
   ]
  },
  {
   "cell_type": "code",
   "execution_count": 188,
   "metadata": {},
   "outputs": [
    {
     "data": {
      "text/plain": [
       "3"
      ]
     },
     "execution_count": 188,
     "metadata": {},
     "output_type": "execute_result"
    }
   ],
   "source": [
    "en_lines.getNumPartitions()"
   ]
  },
  {
   "cell_type": "code",
   "execution_count": 189,
   "metadata": {},
   "outputs": [
    {
     "data": {
      "text/plain": [
       "3"
      ]
     },
     "execution_count": 189,
     "metadata": {},
     "output_type": "execute_result"
    }
   ],
   "source": [
    "fi_lines.getNumPartitions()"
   ]
  },
  {
   "cell_type": "code",
   "execution_count": 190,
   "metadata": {},
   "outputs": [],
   "source": [
    "def lower_case(lines):\n",
    "    return lines.lower()\n",
    "    "
   ]
  },
  {
   "cell_type": "code",
   "execution_count": 191,
   "metadata": {},
   "outputs": [],
   "source": [
    "en_lines1 = en_lines.map(lower_case)"
   ]
  },
  {
   "cell_type": "code",
   "execution_count": 192,
   "metadata": {},
   "outputs": [],
   "source": [
    "fi_lines1 = fi_lines.map(lower_case)"
   ]
  },
  {
   "cell_type": "code",
   "execution_count": 193,
   "metadata": {},
   "outputs": [],
   "source": [
    "en_lines2 = en_lines1.map(tokenize)"
   ]
  },
  {
   "cell_type": "code",
   "execution_count": 194,
   "metadata": {},
   "outputs": [
    {
     "data": {
      "text/plain": [
       "['resumption of the session',\n",
       " 'i declare resumed the session of the european parliament adjourned on friday 17 december 1999, and i would like once again to wish you a happy new year in the hope that you enjoyed a pleasant festive period.',\n",
       " \"although, as you will have seen, the dreaded 'millennium bug' failed to materialise, still the people in a number of countries suffered a series of natural disasters that truly were dreadful.\",\n",
       " 'you have requested a debate on this subject in the course of the next few days, during this part-session.',\n",
       " \"in the meantime, i should like to observe a minute' s silence, as a number of members have requested, on behalf of all the victims concerned, particularly those of the terrible storms, in the various countries of the european union.\",\n",
       " \"please rise, then, for this minute' s silence.\",\n",
       " \"(the house rose and observed a minute' s silence)\",\n",
       " 'madam president, on a point of order.',\n",
       " 'you will be aware from the press and television that there have been a number of bomb explosions and killings in sri lanka.',\n",
       " 'one of the people assassinated very recently in sri lanka was mr kumar ponnambalam, who had visited the european parliament just a few months ago.']"
      ]
     },
     "execution_count": 194,
     "metadata": {},
     "output_type": "execute_result"
    }
   ],
   "source": [
    "en_lines1.take(10)"
   ]
  },
  {
   "cell_type": "code",
   "execution_count": 195,
   "metadata": {},
   "outputs": [
    {
     "data": {
      "text/plain": [
       "[['resumption', 'of', 'the', 'session'],\n",
       " ['i',\n",
       "  'declare',\n",
       "  'resumed',\n",
       "  'the',\n",
       "  'session',\n",
       "  'of',\n",
       "  'the',\n",
       "  'european',\n",
       "  'parliament',\n",
       "  'adjourned',\n",
       "  'on',\n",
       "  'friday',\n",
       "  '17',\n",
       "  'december',\n",
       "  '1999,',\n",
       "  'and',\n",
       "  'i',\n",
       "  'would',\n",
       "  'like',\n",
       "  'once',\n",
       "  'again',\n",
       "  'to',\n",
       "  'wish',\n",
       "  'you',\n",
       "  'a',\n",
       "  'happy',\n",
       "  'new',\n",
       "  'year',\n",
       "  'in',\n",
       "  'the',\n",
       "  'hope',\n",
       "  'that',\n",
       "  'you',\n",
       "  'enjoyed',\n",
       "  'a',\n",
       "  'pleasant',\n",
       "  'festive',\n",
       "  'period.'],\n",
       " ['although,',\n",
       "  'as',\n",
       "  'you',\n",
       "  'will',\n",
       "  'have',\n",
       "  'seen,',\n",
       "  'the',\n",
       "  'dreaded',\n",
       "  \"'millennium\",\n",
       "  \"bug'\",\n",
       "  'failed',\n",
       "  'to',\n",
       "  'materialise,',\n",
       "  'still',\n",
       "  'the',\n",
       "  'people',\n",
       "  'in',\n",
       "  'a',\n",
       "  'number',\n",
       "  'of',\n",
       "  'countries',\n",
       "  'suffered',\n",
       "  'a',\n",
       "  'series',\n",
       "  'of',\n",
       "  'natural',\n",
       "  'disasters',\n",
       "  'that',\n",
       "  'truly',\n",
       "  'were',\n",
       "  'dreadful.'],\n",
       " ['you',\n",
       "  'have',\n",
       "  'requested',\n",
       "  'a',\n",
       "  'debate',\n",
       "  'on',\n",
       "  'this',\n",
       "  'subject',\n",
       "  'in',\n",
       "  'the',\n",
       "  'course',\n",
       "  'of',\n",
       "  'the',\n",
       "  'next',\n",
       "  'few',\n",
       "  'days,',\n",
       "  'during',\n",
       "  'this',\n",
       "  'part-session.'],\n",
       " ['in',\n",
       "  'the',\n",
       "  'meantime,',\n",
       "  'i',\n",
       "  'should',\n",
       "  'like',\n",
       "  'to',\n",
       "  'observe',\n",
       "  'a',\n",
       "  \"minute'\",\n",
       "  's',\n",
       "  'silence,',\n",
       "  'as',\n",
       "  'a',\n",
       "  'number',\n",
       "  'of',\n",
       "  'members',\n",
       "  'have',\n",
       "  'requested,',\n",
       "  'on',\n",
       "  'behalf',\n",
       "  'of',\n",
       "  'all',\n",
       "  'the',\n",
       "  'victims',\n",
       "  'concerned,',\n",
       "  'particularly',\n",
       "  'those',\n",
       "  'of',\n",
       "  'the',\n",
       "  'terrible',\n",
       "  'storms,',\n",
       "  'in',\n",
       "  'the',\n",
       "  'various',\n",
       "  'countries',\n",
       "  'of',\n",
       "  'the',\n",
       "  'european',\n",
       "  'union.'],\n",
       " ['please', 'rise,', 'then,', 'for', 'this', \"minute'\", 's', 'silence.'],\n",
       " ['(the', 'house', 'rose', 'and', 'observed', 'a', \"minute'\", 's', 'silence)'],\n",
       " ['madam', 'president,', 'on', 'a', 'point', 'of', 'order.'],\n",
       " ['you',\n",
       "  'will',\n",
       "  'be',\n",
       "  'aware',\n",
       "  'from',\n",
       "  'the',\n",
       "  'press',\n",
       "  'and',\n",
       "  'television',\n",
       "  'that',\n",
       "  'there',\n",
       "  'have',\n",
       "  'been',\n",
       "  'a',\n",
       "  'number',\n",
       "  'of',\n",
       "  'bomb',\n",
       "  'explosions',\n",
       "  'and',\n",
       "  'killings',\n",
       "  'in',\n",
       "  'sri',\n",
       "  'lanka.'],\n",
       " ['one',\n",
       "  'of',\n",
       "  'the',\n",
       "  'people',\n",
       "  'assassinated',\n",
       "  'very',\n",
       "  'recently',\n",
       "  'in',\n",
       "  'sri',\n",
       "  'lanka',\n",
       "  'was',\n",
       "  'mr',\n",
       "  'kumar',\n",
       "  'ponnambalam,',\n",
       "  'who',\n",
       "  'had',\n",
       "  'visited',\n",
       "  'the',\n",
       "  'european',\n",
       "  'parliament',\n",
       "  'just',\n",
       "  'a',\n",
       "  'few',\n",
       "  'months',\n",
       "  'ago.']]"
      ]
     },
     "execution_count": 195,
     "metadata": {},
     "output_type": "execute_result"
    }
   ],
   "source": [
    "en_lines2.take(10)"
   ]
  },
  {
   "cell_type": "code",
   "execution_count": 196,
   "metadata": {},
   "outputs": [],
   "source": [
    "fi_lines2 = fi_lines1.map(tokenize)"
   ]
  },
  {
   "cell_type": "code",
   "execution_count": 197,
   "metadata": {},
   "outputs": [
    {
     "data": {
      "text/plain": [
       "[['istuntokauden', 'uudelleenavaaminen'],\n",
       " ['julistan',\n",
       "  'perjantaina',\n",
       "  'joulukuun',\n",
       "  '17.',\n",
       "  'päivänä',\n",
       "  'keskeytetyn',\n",
       "  'euroopan',\n",
       "  'parlamentin',\n",
       "  'istunnon',\n",
       "  'avatuksi',\n",
       "  'ja',\n",
       "  'esitän',\n",
       "  'vielä',\n",
       "  'kerran',\n",
       "  'vilpittömän',\n",
       "  'toiveeni',\n",
       "  'siitä,',\n",
       "  'että',\n",
       "  'teillä',\n",
       "  'olisi',\n",
       "  'ollut',\n",
       "  'oikein',\n",
       "  'mukava',\n",
       "  'joululoma.'],\n",
       " ['kuten',\n",
       "  'olette',\n",
       "  'varmaan',\n",
       "  'saattaneet',\n",
       "  'huomata,',\n",
       "  'vuodenvaihteeseen',\n",
       "  '2000',\n",
       "  'povattuja',\n",
       "  'suuria',\n",
       "  'tietokoneongelmia',\n",
       "  'ei',\n",
       "  'ilmennytkään.',\n",
       "  'sen',\n",
       "  'sijaan',\n",
       "  'todella',\n",
       "  'kauheat',\n",
       "  'luonnonkatastrofit',\n",
       "  'koettelivat',\n",
       "  'kansalaisia',\n",
       "  'joissakin',\n",
       "  'unionimme',\n",
       "  'maissa.'],\n",
       " ['te',\n",
       "  'olette',\n",
       "  'esittäneet',\n",
       "  'toiveen,',\n",
       "  'että',\n",
       "  'tästä',\n",
       "  'asiasta',\n",
       "  'keskusteltaisiin',\n",
       "  'lähipäivinä',\n",
       "  'tämän',\n",
       "  'istuntojakson',\n",
       "  'aikana.'],\n",
       " ['sillä',\n",
       "  'välin',\n",
       "  'toivoisin,',\n",
       "  'kuten',\n",
       "  'useampi',\n",
       "  'kollega',\n",
       "  'on',\n",
       "  'minulle',\n",
       "  'esittänytkin,',\n",
       "  'että',\n",
       "  'viettäisimme',\n",
       "  'minuutin',\n",
       "  'hiljaisuuden',\n",
       "  'kaikkien',\n",
       "  'niiden',\n",
       "  'uhrien',\n",
       "  'muistoksi,',\n",
       "  'jotka',\n",
       "  'saivat',\n",
       "  'surmansa',\n",
       "  'useita',\n",
       "  'euroopan',\n",
       "  'unionin',\n",
       "  'maita',\n",
       "  'koetelleissa',\n",
       "  'myrskyissä.'],\n",
       " ['kehotan,',\n",
       "  'että',\n",
       "  'nousette',\n",
       "  'seisomaan',\n",
       "  'tämän',\n",
       "  'minuutin',\n",
       "  'hiljaisuuden',\n",
       "  'ajaksi'],\n",
       " ['(parlamentti', 'vietti', 'seisaallaan', 'minuutin', 'hiljaisuuden.)'],\n",
       " ['arvoisa', 'puhemies,', 'käytän', 'työjärjestyspuheenvuoron.'],\n",
       " ['olette',\n",
       "  'varmaan',\n",
       "  'saaneet',\n",
       "  'tietoonne',\n",
       "  'lehdistön',\n",
       "  'ja',\n",
       "  'television',\n",
       "  'kautta,',\n",
       "  'että',\n",
       "  'sri',\n",
       "  'lankassa',\n",
       "  'on',\n",
       "  'sattunut',\n",
       "  'useita',\n",
       "  'kuolemaan',\n",
       "  'johtaneita',\n",
       "  'pommi-iskuja.'],\n",
       " ['näiden',\n",
       "  'sri',\n",
       "  'lankassa',\n",
       "  'aivan',\n",
       "  'äskettäin',\n",
       "  'surmansa',\n",
       "  'saaneiden',\n",
       "  'ihmisten',\n",
       "  'joukossa',\n",
       "  'on',\n",
       "  'kumar',\n",
       "  'ponnambalam,',\n",
       "  'joka',\n",
       "  'vieraili',\n",
       "  'parlamentissa',\n",
       "  'vain',\n",
       "  'pari',\n",
       "  'kuukautta',\n",
       "  'sitten.']]"
      ]
     },
     "execution_count": 197,
     "metadata": {},
     "output_type": "execute_result"
    }
   ],
   "source": [
    "fi_lines2.take(10)"
   ]
  },
  {
   "cell_type": "code",
   "execution_count": 198,
   "metadata": {},
   "outputs": [
    {
     "data": {
      "text/plain": [
       "1924942"
      ]
     },
     "execution_count": 198,
     "metadata": {},
     "output_type": "execute_result"
    }
   ],
   "source": [
    "en_lines2.count()\n"
   ]
  },
  {
   "cell_type": "code",
   "execution_count": 199,
   "metadata": {},
   "outputs": [
    {
     "data": {
      "text/plain": [
       "1924942"
      ]
     },
     "execution_count": 199,
     "metadata": {},
     "output_type": "execute_result"
    }
   ],
   "source": [
    "fi_lines2.count()"
   ]
  },
  {
   "cell_type": "code",
   "execution_count": 200,
   "metadata": {},
   "outputs": [],
   "source": [
    "from operator import add"
   ]
  },
  {
   "cell_type": "code",
   "execution_count": 201,
   "metadata": {},
   "outputs": [],
   "source": [
    "def f(x): return x"
   ]
  },
  {
   "cell_type": "code",
   "execution_count": 202,
   "metadata": {},
   "outputs": [],
   "source": [
    "freq_words_en = en_lines2.flatMap(lambda w: w)\\\n",
    "                .map(lambda w: (w,1))\\\n",
    "                .reduceByKey(add)"
   ]
  },
  {
   "cell_type": "code",
   "execution_count": 203,
   "metadata": {},
   "outputs": [
    {
     "name": "stdout",
     "output_type": "stream",
     "text": [
      "[('the', 3631999), ('of', 1724330), ('to', 1600201), ('and', 1339315), ('in', 1127314), ('that', 830159), ('a', 804214), ('is', 785453), ('for', 553758), ('we', 548119)]\n"
     ]
    }
   ],
   "source": [
    "print (freq_words_en.takeOrdered(10,key = lambda x: -x[1]))"
   ]
  },
  {
   "cell_type": "code",
   "execution_count": 204,
   "metadata": {},
   "outputs": [],
   "source": [
    "freq_words_fi = fi_lines2.flatMap(lambda w: w)\\\n",
    "                .map(lambda w: (w,1))\\\n",
    "                .reduceByKey(add)"
   ]
  },
  {
   "cell_type": "code",
   "execution_count": 205,
   "metadata": {},
   "outputs": [
    {
     "name": "stdout",
     "output_type": "stream",
     "text": [
      "[('ja', 1249993), ('on', 1035987), ('että', 619663), ('euroopan', 257606), ('ei', 246274), ('myös', 178767), ('ovat', 161871), ('se', 152858), ('arvoisa', 149626), ('ole', 134745)]\n"
     ]
    }
   ],
   "source": [
    "print (freq_words_fi.takeOrdered(10,key = lambda x: -x[1]))"
   ]
  },
  {
   "cell_type": "code",
   "execution_count": 206,
   "metadata": {},
   "outputs": [],
   "source": [
    "en_1 = en_lines2.zipWithIndex()\n",
    "fi_1 = fi_lines2.zipWithIndex()"
   ]
  },
  {
   "cell_type": "code",
   "execution_count": 207,
   "metadata": {
    "scrolled": true
   },
   "outputs": [
    {
     "data": {
      "text/plain": [
       "[(['resumption', 'of', 'the', 'session'], 0),\n",
       " (['i',\n",
       "   'declare',\n",
       "   'resumed',\n",
       "   'the',\n",
       "   'session',\n",
       "   'of',\n",
       "   'the',\n",
       "   'european',\n",
       "   'parliament',\n",
       "   'adjourned',\n",
       "   'on',\n",
       "   'friday',\n",
       "   '17',\n",
       "   'december',\n",
       "   '1999,',\n",
       "   'and',\n",
       "   'i',\n",
       "   'would',\n",
       "   'like',\n",
       "   'once',\n",
       "   'again',\n",
       "   'to',\n",
       "   'wish',\n",
       "   'you',\n",
       "   'a',\n",
       "   'happy',\n",
       "   'new',\n",
       "   'year',\n",
       "   'in',\n",
       "   'the',\n",
       "   'hope',\n",
       "   'that',\n",
       "   'you',\n",
       "   'enjoyed',\n",
       "   'a',\n",
       "   'pleasant',\n",
       "   'festive',\n",
       "   'period.'],\n",
       "  1)]"
      ]
     },
     "execution_count": 207,
     "metadata": {},
     "output_type": "execute_result"
    }
   ],
   "source": [
    "en_1.take(2)"
   ]
  },
  {
   "cell_type": "code",
   "execution_count": 208,
   "metadata": {},
   "outputs": [],
   "source": [
    "en_2 = en_1.map(lambda w: (w[1], w[0]))\n",
    "fi_2 = fi_1.map(lambda w: (w[1], w[0]))"
   ]
  },
  {
   "cell_type": "code",
   "execution_count": 209,
   "metadata": {
    "scrolled": true
   },
   "outputs": [
    {
     "data": {
      "text/plain": [
       "[(0, ['istuntokauden', 'uudelleenavaaminen']),\n",
       " (1,\n",
       "  ['julistan',\n",
       "   'perjantaina',\n",
       "   'joulukuun',\n",
       "   '17.',\n",
       "   'päivänä',\n",
       "   'keskeytetyn',\n",
       "   'euroopan',\n",
       "   'parlamentin',\n",
       "   'istunnon',\n",
       "   'avatuksi',\n",
       "   'ja',\n",
       "   'esitän',\n",
       "   'vielä',\n",
       "   'kerran',\n",
       "   'vilpittömän',\n",
       "   'toiveeni',\n",
       "   'siitä,',\n",
       "   'että',\n",
       "   'teillä',\n",
       "   'olisi',\n",
       "   'ollut',\n",
       "   'oikein',\n",
       "   'mukava',\n",
       "   'joululoma.'])]"
      ]
     },
     "execution_count": 209,
     "metadata": {},
     "output_type": "execute_result"
    }
   ],
   "source": [
    "fi_2.take(2)"
   ]
  },
  {
   "cell_type": "code",
   "execution_count": 222,
   "metadata": {},
   "outputs": [],
   "source": [
    "joined_lines = en_2.join(fi_2)"
   ]
  },
  {
   "cell_type": "code",
   "execution_count": 223,
   "metadata": {
    "scrolled": true
   },
   "outputs": [
    {
     "data": {
      "text/plain": [
       "[(0,\n",
       "  (['resumption', 'of', 'the', 'session'],\n",
       "   ['istuntokauden', 'uudelleenavaaminen'])),\n",
       " (1,\n",
       "  (['i',\n",
       "    'declare',\n",
       "    'resumed',\n",
       "    'the',\n",
       "    'session',\n",
       "    'of',\n",
       "    'the',\n",
       "    'european',\n",
       "    'parliament',\n",
       "    'adjourned',\n",
       "    'on',\n",
       "    'friday',\n",
       "    '17',\n",
       "    'december',\n",
       "    '1999,',\n",
       "    'and',\n",
       "    'i',\n",
       "    'would',\n",
       "    'like',\n",
       "    'once',\n",
       "    'again',\n",
       "    'to',\n",
       "    'wish',\n",
       "    'you',\n",
       "    'a',\n",
       "    'happy',\n",
       "    'new',\n",
       "    'year',\n",
       "    'in',\n",
       "    'the',\n",
       "    'hope',\n",
       "    'that',\n",
       "    'you',\n",
       "    'enjoyed',\n",
       "    'a',\n",
       "    'pleasant',\n",
       "    'festive',\n",
       "    'period.'],\n",
       "   ['julistan',\n",
       "    'perjantaina',\n",
       "    'joulukuun',\n",
       "    '17.',\n",
       "    'päivänä',\n",
       "    'keskeytetyn',\n",
       "    'euroopan',\n",
       "    'parlamentin',\n",
       "    'istunnon',\n",
       "    'avatuksi',\n",
       "    'ja',\n",
       "    'esitän',\n",
       "    'vielä',\n",
       "    'kerran',\n",
       "    'vilpittömän',\n",
       "    'toiveeni',\n",
       "    'siitä,',\n",
       "    'että',\n",
       "    'teillä',\n",
       "    'olisi',\n",
       "    'ollut',\n",
       "    'oikein',\n",
       "    'mukava',\n",
       "    'joululoma.'])),\n",
       " (2,\n",
       "  (['although,',\n",
       "    'as',\n",
       "    'you',\n",
       "    'will',\n",
       "    'have',\n",
       "    'seen,',\n",
       "    'the',\n",
       "    'dreaded',\n",
       "    \"'millennium\",\n",
       "    \"bug'\",\n",
       "    'failed',\n",
       "    'to',\n",
       "    'materialise,',\n",
       "    'still',\n",
       "    'the',\n",
       "    'people',\n",
       "    'in',\n",
       "    'a',\n",
       "    'number',\n",
       "    'of',\n",
       "    'countries',\n",
       "    'suffered',\n",
       "    'a',\n",
       "    'series',\n",
       "    'of',\n",
       "    'natural',\n",
       "    'disasters',\n",
       "    'that',\n",
       "    'truly',\n",
       "    'were',\n",
       "    'dreadful.'],\n",
       "   ['kuten',\n",
       "    'olette',\n",
       "    'varmaan',\n",
       "    'saattaneet',\n",
       "    'huomata,',\n",
       "    'vuodenvaihteeseen',\n",
       "    '2000',\n",
       "    'povattuja',\n",
       "    'suuria',\n",
       "    'tietokoneongelmia',\n",
       "    'ei',\n",
       "    'ilmennytkään.',\n",
       "    'sen',\n",
       "    'sijaan',\n",
       "    'todella',\n",
       "    'kauheat',\n",
       "    'luonnonkatastrofit',\n",
       "    'koettelivat',\n",
       "    'kansalaisia',\n",
       "    'joissakin',\n",
       "    'unionimme',\n",
       "    'maissa.'])),\n",
       " (3,\n",
       "  (['you',\n",
       "    'have',\n",
       "    'requested',\n",
       "    'a',\n",
       "    'debate',\n",
       "    'on',\n",
       "    'this',\n",
       "    'subject',\n",
       "    'in',\n",
       "    'the',\n",
       "    'course',\n",
       "    'of',\n",
       "    'the',\n",
       "    'next',\n",
       "    'few',\n",
       "    'days,',\n",
       "    'during',\n",
       "    'this',\n",
       "    'part-session.'],\n",
       "   ['te',\n",
       "    'olette',\n",
       "    'esittäneet',\n",
       "    'toiveen,',\n",
       "    'että',\n",
       "    'tästä',\n",
       "    'asiasta',\n",
       "    'keskusteltaisiin',\n",
       "    'lähipäivinä',\n",
       "    'tämän',\n",
       "    'istuntojakson',\n",
       "    'aikana.'])),\n",
       " (4,\n",
       "  (['in',\n",
       "    'the',\n",
       "    'meantime,',\n",
       "    'i',\n",
       "    'should',\n",
       "    'like',\n",
       "    'to',\n",
       "    'observe',\n",
       "    'a',\n",
       "    \"minute'\",\n",
       "    's',\n",
       "    'silence,',\n",
       "    'as',\n",
       "    'a',\n",
       "    'number',\n",
       "    'of',\n",
       "    'members',\n",
       "    'have',\n",
       "    'requested,',\n",
       "    'on',\n",
       "    'behalf',\n",
       "    'of',\n",
       "    'all',\n",
       "    'the',\n",
       "    'victims',\n",
       "    'concerned,',\n",
       "    'particularly',\n",
       "    'those',\n",
       "    'of',\n",
       "    'the',\n",
       "    'terrible',\n",
       "    'storms,',\n",
       "    'in',\n",
       "    'the',\n",
       "    'various',\n",
       "    'countries',\n",
       "    'of',\n",
       "    'the',\n",
       "    'european',\n",
       "    'union.'],\n",
       "   ['sillä',\n",
       "    'välin',\n",
       "    'toivoisin,',\n",
       "    'kuten',\n",
       "    'useampi',\n",
       "    'kollega',\n",
       "    'on',\n",
       "    'minulle',\n",
       "    'esittänytkin,',\n",
       "    'että',\n",
       "    'viettäisimme',\n",
       "    'minuutin',\n",
       "    'hiljaisuuden',\n",
       "    'kaikkien',\n",
       "    'niiden',\n",
       "    'uhrien',\n",
       "    'muistoksi,',\n",
       "    'jotka',\n",
       "    'saivat',\n",
       "    'surmansa',\n",
       "    'useita',\n",
       "    'euroopan',\n",
       "    'unionin',\n",
       "    'maita',\n",
       "    'koetelleissa',\n",
       "    'myrskyissä.'])),\n",
       " (5,\n",
       "  (['please', 'rise,', 'then,', 'for', 'this', \"minute'\", 's', 'silence.'],\n",
       "   ['kehotan,',\n",
       "    'että',\n",
       "    'nousette',\n",
       "    'seisomaan',\n",
       "    'tämän',\n",
       "    'minuutin',\n",
       "    'hiljaisuuden',\n",
       "    'ajaksi'])),\n",
       " (6,\n",
       "  (['(the',\n",
       "    'house',\n",
       "    'rose',\n",
       "    'and',\n",
       "    'observed',\n",
       "    'a',\n",
       "    \"minute'\",\n",
       "    's',\n",
       "    'silence)'],\n",
       "   ['(parlamentti', 'vietti', 'seisaallaan', 'minuutin', 'hiljaisuuden.)'])),\n",
       " (7,\n",
       "  (['madam', 'president,', 'on', 'a', 'point', 'of', 'order.'],\n",
       "   ['arvoisa', 'puhemies,', 'käytän', 'työjärjestyspuheenvuoron.'])),\n",
       " (8,\n",
       "  (['you',\n",
       "    'will',\n",
       "    'be',\n",
       "    'aware',\n",
       "    'from',\n",
       "    'the',\n",
       "    'press',\n",
       "    'and',\n",
       "    'television',\n",
       "    'that',\n",
       "    'there',\n",
       "    'have',\n",
       "    'been',\n",
       "    'a',\n",
       "    'number',\n",
       "    'of',\n",
       "    'bomb',\n",
       "    'explosions',\n",
       "    'and',\n",
       "    'killings',\n",
       "    'in',\n",
       "    'sri',\n",
       "    'lanka.'],\n",
       "   ['olette',\n",
       "    'varmaan',\n",
       "    'saaneet',\n",
       "    'tietoonne',\n",
       "    'lehdistön',\n",
       "    'ja',\n",
       "    'television',\n",
       "    'kautta,',\n",
       "    'että',\n",
       "    'sri',\n",
       "    'lankassa',\n",
       "    'on',\n",
       "    'sattunut',\n",
       "    'useita',\n",
       "    'kuolemaan',\n",
       "    'johtaneita',\n",
       "    'pommi-iskuja.'])),\n",
       " (9,\n",
       "  (['one',\n",
       "    'of',\n",
       "    'the',\n",
       "    'people',\n",
       "    'assassinated',\n",
       "    'very',\n",
       "    'recently',\n",
       "    'in',\n",
       "    'sri',\n",
       "    'lanka',\n",
       "    'was',\n",
       "    'mr',\n",
       "    'kumar',\n",
       "    'ponnambalam,',\n",
       "    'who',\n",
       "    'had',\n",
       "    'visited',\n",
       "    'the',\n",
       "    'european',\n",
       "    'parliament',\n",
       "    'just',\n",
       "    'a',\n",
       "    'few',\n",
       "    'months',\n",
       "    'ago.'],\n",
       "   ['näiden',\n",
       "    'sri',\n",
       "    'lankassa',\n",
       "    'aivan',\n",
       "    'äskettäin',\n",
       "    'surmansa',\n",
       "    'saaneiden',\n",
       "    'ihmisten',\n",
       "    'joukossa',\n",
       "    'on',\n",
       "    'kumar',\n",
       "    'ponnambalam,',\n",
       "    'joka',\n",
       "    'vieraili',\n",
       "    'parlamentissa',\n",
       "    'vain',\n",
       "    'pari',\n",
       "    'kuukautta',\n",
       "    'sitten.']))]"
      ]
     },
     "execution_count": 223,
     "metadata": {},
     "output_type": "execute_result"
    }
   ],
   "source": [
    "joined_lines.takeOrdered(10)"
   ]
  },
  {
   "cell_type": "code",
   "execution_count": 224,
   "metadata": {},
   "outputs": [],
   "source": [
    "joined_line1 = joined_lines.filter(lambda w: (w[1][0] != []) and (w[1][1] != []))"
   ]
  },
  {
   "cell_type": "code",
   "execution_count": 225,
   "metadata": {},
   "outputs": [
    {
     "data": {
      "text/plain": [
       "1918494"
      ]
     },
     "execution_count": 225,
     "metadata": {},
     "output_type": "execute_result"
    }
   ],
   "source": [
    "joined_line1.count()"
   ]
  },
  {
   "cell_type": "code",
   "execution_count": 226,
   "metadata": {},
   "outputs": [],
   "source": [
    "joined_line2 = joined_line1.filter(lambda w: ((len(w[1][0]) >= 5) or (len(w[1][1]) >= 5)))"
   ]
  },
  {
   "cell_type": "code",
   "execution_count": 227,
   "metadata": {},
   "outputs": [
    {
     "data": {
      "text/plain": [
       "1870107"
      ]
     },
     "execution_count": 227,
     "metadata": {},
     "output_type": "execute_result"
    }
   ],
   "source": [
    "joined_line2.count()"
   ]
  },
  {
   "cell_type": "code",
   "execution_count": 228,
   "metadata": {},
   "outputs": [],
   "source": [
    "joined_line3 = joined_line2.filter(lambda w: (len(w[1][0]) == len(w[1][1])))"
   ]
  },
  {
   "cell_type": "code",
   "execution_count": 229,
   "metadata": {},
   "outputs": [
    {
     "data": {
      "text/plain": [
       "41868"
      ]
     },
     "execution_count": 229,
     "metadata": {},
     "output_type": "execute_result"
    }
   ],
   "source": [
    "joined_line3.count()"
   ]
  },
  {
   "cell_type": "code",
   "execution_count": 230,
   "metadata": {},
   "outputs": [],
   "source": [
    "mapped_words = joined_line3.map(lambda w: list(zip(w[1][0], w[1][1])))"
   ]
  },
  {
   "cell_type": "code",
   "execution_count": 231,
   "metadata": {
    "scrolled": true
   },
   "outputs": [
    {
     "data": {
      "text/plain": [
       "[[('why', 'miksei'),\n",
       "  ('has', 'tässä'),\n",
       "  ('this', 'asiassa'),\n",
       "  ('been', 'ole'),\n",
       "  ('paralysed', 'tapahtunut'),\n",
       "  ('for', 'mitään'),\n",
       "  ('ten', 'kymmeneen'),\n",
       "  ('years?', 'vuoteen?')],\n",
       " [('in', 'uskallan'),\n",
       "  ('fact', 'sitä'),\n",
       "  ('this', 'paitsi'),\n",
       "  ('process', 'sanoa,'),\n",
       "  ('is', 'että'),\n",
       "  ('already', '\"eurooppa'),\n",
       "  ('under', 'merkitsee'),\n",
       "  ('way.', 'rauhaa\".')]]"
      ]
     },
     "execution_count": 231,
     "metadata": {},
     "output_type": "execute_result"
    }
   ],
   "source": [
    "mapped_words.take(2)"
   ]
  },
  {
   "cell_type": "code",
   "execution_count": 232,
   "metadata": {},
   "outputs": [],
   "source": [
    "final_result = mapped_words.flatMap(lambda w: w)\\\n",
    "        .map(lambda w: (w,1))\\\n",
    "        .reduceByKey(add)\n",
    "        "
   ]
  },
  {
   "cell_type": "code",
   "execution_count": 233,
   "metadata": {},
   "outputs": [
    {
     "name": "stdout",
     "output_type": "stream",
     "text": [
      "[(('and', 'ja'), 4268), (('is', 'on'), 3274), (('this', 'tämä'), 1473), (('president,', 'puhemies,'), 1362), (('mr', 'arvoisa'), 1290), (('we', 'meidän'), 1204), (('that', 'että'), 1122), (('must', 'on'), 1076), (('not', 'ole'), 1007), (('it', 'se'), 987)]\n"
     ]
    }
   ],
   "source": [
    "print (final_result.takeOrdered(10,key = lambda x: -x[1]))"
   ]
  },
  {
   "cell_type": "code",
   "execution_count": null,
   "metadata": {},
   "outputs": [],
   "source": []
  },
  {
   "cell_type": "code",
   "execution_count": null,
   "metadata": {},
   "outputs": [],
   "source": []
  }
 ],
 "metadata": {
  "kernelspec": {
   "display_name": "Python 3",
   "language": "python",
   "name": "python3"
  },
  "language_info": {
   "codemirror_mode": {
    "name": "ipython",
    "version": 3
   },
   "file_extension": ".py",
   "mimetype": "text/x-python",
   "name": "python",
   "nbconvert_exporter": "python",
   "pygments_lexer": "ipython3",
   "version": "3.6.9"
  }
 },
 "nbformat": 4,
 "nbformat_minor": 2
}
